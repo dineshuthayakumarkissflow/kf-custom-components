{
  "nbformat": 4,
  "nbformat_minor": 0,
  "metadata": {
    "colab": {
      "provenance": [],
      "include_colab_link": true
    },
    "kernelspec": {
      "name": "python3",
      "display_name": "Python 3"
    },
    "language_info": {
      "name": "python"
    }
  },
  "cells": [
    {
      "cell_type": "markdown",
      "metadata": {
        "id": "view-in-github",
        "colab_type": "text"
      },
      "source": [
        "<a href=\"https://colab.research.google.com/github/dineshuthayakumarkissflow/kf-custom-components/blob/main/Attachment_Folder_Organisation.ipynb\" target=\"_parent\"><img src=\"https://colab.research.google.com/assets/colab-badge.svg\" alt=\"Open In Colab\"/></a>"
      ]
    },
    {
      "cell_type": "code",
      "execution_count": null,
      "metadata": {
        "id": "2ZXv-Pg5KhBX"
      },
      "outputs": [],
      "source": [
        "!pip install requests requests-aws4auth boto3"
      ]
    },
    {
      "cell_type": "markdown",
      "source": [
        "# **PR Processing Logic**\n"
      ],
      "metadata": {
        "id": "H7z14xyDWgdP"
      }
    },
    {
      "cell_type": "code",
      "source": [
        "from re import split\n",
        "import csv\n",
        "import boto3\n",
        "import requests\n",
        "from google.colab import userdata\n",
        "\n",
        "attachment_columns=split(',',userdata.get('list-of-fields'))\n",
        "aws_access_key = userdata.get(\"Aws-Access-Key\")\n",
        "aws_secret_key = userdata.get(\"Aws-Secret-Key\")\n",
        "aws_bucket_name = userdata.get(\"Aws-Bucket-Name\")\n",
        "aws_region = userdata.get('Aws-Region')\n",
        "\n",
        "# ---------- Data Classes ----------\n",
        "\n",
        "class AttachmentFile:\n",
        "    def __init__(self, id, filename, location):\n",
        "        self.id = id\n",
        "        self.filename = filename\n",
        "        self.location = location\n",
        "\n",
        "    def __repr__(self):\n",
        "        return f\"AttachmentFile(id={self.id}, filename='{self.filename}', location='{self.location}')\"\n",
        "\n",
        "class ProcessField:\n",
        "    def __init__(self, field_schema_name, attachments):\n",
        "        self.field_schema_name = field_schema_name\n",
        "        self.attachments = attachments  # List of AttachmentFile\n",
        "\n",
        "    def __repr__(self):\n",
        "        return f\"ProcessField(field_schema_name='{self.field_schema_name}', attachments={self.attachments})\"\n",
        "\n",
        "class Process:\n",
        "    def __init__(self, id, name, request_number, requester_name):\n",
        "        self.id = id\n",
        "        self.name = name\n",
        "        self.request_number = request_number\n",
        "        self.requester_name = requester_name\n",
        "        self.fields = []  # List of ProcessField\n",
        "\n",
        "    def __repr__(self):\n",
        "        return (\n",
        "            f\"Process(id={self.id!r}, name={self.name!r}, request_number={self.request_number}, \"\n",
        "            f\"requester_name={self.requester_name!r}, fields={self.fields})\"\n",
        "        )"
      ],
      "metadata": {
        "id": "ma2kSZqHWCTD"
      },
      "execution_count": 145,
      "outputs": []
    },
    {
      "cell_type": "code",
      "source": [
        "# ---------- Kissflow Service Client ----------\n",
        "kf_sub_domain = userdata.get('kf-sub-domain')\n",
        "kf_api_version = userdata.get('kf-api-version')\n",
        "kf_accountid = userdata.get('kf-accountid')\n",
        "kf_process_name = userdata.get('kf-process-name')\n",
        "\n",
        "kissflow_api_url = f\"https://{kf_sub_domain}.kissflow.com/process/{kf_api_version}/{kf_accountid}/admin/{kf_process_name}/item\"\n",
        "if kf_api_version == \"2\":\n",
        "    kissflow_headers = {\n",
        "        \"X-Access-Key-Id\": userdata.get(\"X-Access-Key-Id\"),\n",
        "        \"X-Access-Key-Secret\": userdata.get(\"X-Access-Key-Secret\")\n",
        "    }\n",
        "else:\n",
        "    kissflow_headers = {\n",
        "      \"X-Api-Key\": userdata.get(\"X-Api-Key\"),\n",
        "    }\n",
        "\n",
        "kissflow_params = {\n",
        "    \"page_number\": int(userdata.get('kf-page-no')),\n",
        "    \"page_size\": int(userdata.get('kf-page-size')),\n",
        "    \"apply_preference\": False\n",
        "}"
      ],
      "metadata": {
        "id": "959qt8IKWC7p"
      },
      "execution_count": 100,
      "outputs": []
    },
    {
      "cell_type": "code",
      "source": [
        "# ---------- Fetch all process items from Kissflow API ----------\n",
        "\n",
        "def fetch_kissflow_data():\n",
        "    response = requests.get(kissflow_api_url, headers=kissflow_headers, params=kissflow_params)\n",
        "    if response.status_code == 200:\n",
        "        return response.json().get(\"Data\", [])\n",
        "    else:\n",
        "        print(\"Error fetching Kissflow data:\", response.text)\n",
        "        return []"
      ],
      "metadata": {
        "id": "7ZkK3u_5bXlQ"
      },
      "execution_count": 101,
      "outputs": []
    },
    {
      "cell_type": "code",
      "source": [
        "# ---------- Fetch specific process item from Kissflow API ----------\n",
        "\n",
        "kissflow_api_url = f\"https://{kf_sub_domain}.kissflow.com/process/{kf_api_version}/{kf_accountid}/admin/{kf_process_name}/PknLKUFlWiFql\"\n",
        "def fetch_specific_process_item_from_kissflow_data():\n",
        "    response = requests.get(kissflow_api_url, headers=kissflow_headers, params=kissflow_params)\n",
        "    #print(response.json())\n",
        "    if response.status_code == 200:\n",
        "        return response.json()\n",
        "    else:\n",
        "        print(\"Error fetching Kissflow data:\", response.text)\n",
        "        return None"
      ],
      "metadata": {
        "id": "WibVZ-4Zu3el"
      },
      "execution_count": 40,
      "outputs": []
    },
    {
      "cell_type": "code",
      "source": [
        "# ---------- Amazon S3 Bucket Service Client ----------\n",
        "def print_to_file(attachments):\n",
        "    csv_filename = \"attachments.csv\"\n",
        "    with open(csv_filename, mode='w', newline='', encoding='utf-8') as csv_file:\n",
        "        writer = csv.writer(csv_file)\n",
        "        writer.writerow([\"ID\", \"Filename\", \"Location\"])  # Header\n",
        "        for attachment in attachments:\n",
        "            writer.writerow([attachment.id, attachment.filename, attachment.location])\n",
        "\n",
        "def collect_attachment_files():\n",
        "    s3 = boto3.client(\n",
        "    's3',\n",
        "    aws_access_key_id=userdata.get(\"Aws-Access-Key\"),\n",
        "    aws_secret_access_key=userdata.get(\"Aws-Secret-Key\"),\n",
        "    region_name=userdata.get('Aws-Region')\n",
        "    )\n",
        "    attachments = []\n",
        "    paginator = s3.get_paginator('list_objects_v2')\n",
        "    pages = paginator.paginate(Bucket=userdata.get(\"Aws-Bucket-Name\"), Prefix=\"\", PaginationConfig={'PageSize': 500})\n",
        "\n",
        "    for page in pages:\n",
        "        if 'Contents' not in page:\n",
        "            continue\n",
        "        for obj in page['Contents']:\n",
        "            key = obj['Key']\n",
        "            parts = key.split('/')\n",
        "            #print(len(parts))\n",
        "            if key.endswith('/') or len(parts) <= 4:\n",
        "                continue  # skip folder markers\n",
        "\n",
        "            #print(parts)\n",
        "            attachment_id = parts[3]\n",
        "            filename = parts[4]\n",
        "\n",
        "            attachment = AttachmentFile(\n",
        "                id=attachment_id,\n",
        "                filename=filename,\n",
        "                location=key\n",
        "            )\n",
        "            attachments.append(attachment)\n",
        "\n",
        "    return attachments\n",
        "\n",
        "attachments = collect_attachment_files()"
      ],
      "metadata": {
        "id": "OF3jmkO62j3l"
      },
      "execution_count": 22,
      "outputs": []
    },
    {
      "cell_type": "code",
      "source": [
        "# ---------- Map S3 Attachment to Kissflow Process Items ----------\n",
        "def map_attachments_to_processes(attachment_files, kissflow_process_items):\n",
        "    matched_processes = []\n",
        "\n",
        "    for item in kissflow_process_items:\n",
        "        process_id = item[\"_id\"]\n",
        "        process_name = item[\"Name\"]\n",
        "        request_number = item.get(\"Purchase_Request_Number\", \"NA\")\n",
        "        requester_name = item.get(\"_created_by\", \"NA\").get(\"Name\")\n",
        "\n",
        "        process = Process(\n",
        "                id=process_id,\n",
        "                name=process_name,\n",
        "                request_number=request_number,\n",
        "                requester_name=requester_name\n",
        "        )\n",
        "        matched_processes.append(process)\n",
        "\n",
        "        for attachment_column in attachment_columns:\n",
        "            if(item.get(attachment_column,None)):\n",
        "                for attachment_column_details in item[attachment_column]:\n",
        "                    for file in attachment_files:\n",
        "                        if file.id == attachment_column_details['id']:\n",
        "                            process.fields.append(ProcessField(\n",
        "                                field_schema_name=attachment_column,\n",
        "                                attachments=[file]\n",
        "                            ))\n",
        "    return matched_processes"
      ],
      "metadata": {
        "id": "_QGSZLWXWXkw"
      },
      "execution_count": 102,
      "outputs": []
    },
    {
      "cell_type": "code",
      "source": [
        "kissflow_process_items = fetch_kissflow_data()\n",
        "print(kissflow_process_items)\n",
        "mapped_processes = map_attachments_to_processes(attachments, kissflow_process_items)"
      ],
      "metadata": {
        "id": "-tPk6cEr4QF9"
      },
      "execution_count": null,
      "outputs": []
    },
    {
      "cell_type": "code",
      "source": [
        "for mapped_process in mapped_processes:\n",
        "    for mapped_field in mapped_process.fields:\n",
        "        for mapped_attachment in mapped_field.attachments:\n",
        "            print(mapped_process.id, '\\t', mapped_field.field_schema_name, '\\t', mapped_attachment.filename)\n",
        "\n",
        "kissflow_process_items"
      ],
      "metadata": {
        "id": "wGekYHxQX3Oo"
      },
      "execution_count": null,
      "outputs": []
    },
    {
      "cell_type": "code",
      "source": [
        "# ---------- Copy files to Amazon S3 Bucket Destination Folder ----------\n",
        "def copy_files_to_destination(processes):\n",
        "    for proc in processes:\n",
        "        for field in proc.fields:\n",
        "            for attachment in field.attachments:\n",
        "                destination_key = (\n",
        "                    f\"RBL___PR_Flow/{proc.request_number} - {proc.requester_name} - {proc.id}/\"\n",
        "                    f\"{field.field_schema_name}/\"\n",
        "                    f\"Attachment - {attachment.id}/\"\n",
        "                    f\"{attachment.filename}\"\n",
        "                )\n",
        "                print(f\"Copying {attachment.location} → {destination_key}\")\n",
        "                s3.copy_object(\n",
        "                    Bucket=aws_bucket_name,\n",
        "                    CopySource={\"Bucket\": aws_bucket_name, \"Key\": attachment.location},\n",
        "                    Key=destination_key\n",
        "                )"
      ],
      "metadata": {
        "id": "uhM4EQHhWa7V"
      },
      "execution_count": 147,
      "outputs": []
    },
    {
      "cell_type": "code",
      "source": [
        "# ---------- MAIN EXECUTION ----------\n",
        "aws_attachment_files = collect_attachment_files()\n",
        "kissflow_process_items = fetch_kissflow_data()\n",
        "print(kissflow_process_items)\n",
        "mapped_processes = map_attachments_to_processes(aws_attachment_files, kissflow_process_items)\n",
        "copy_files_to_destination(mapped_processes)"
      ],
      "metadata": {
        "id": "JiyG0EP6WdxW"
      },
      "execution_count": null,
      "outputs": []
    },
    {
      "cell_type": "code",
      "source": [
        "s3 = boto3.client(\n",
        "    's3',\n",
        "    aws_access_key_id=aws_access_key,\n",
        "    aws_secret_access_key=aws_secret_key,\n",
        "    region_name=aws_region\n",
        "    )\n",
        "paginator = s3.get_paginator('list_objects_v2')\n",
        "pages = paginator.paginate(Bucket=aws_bucket_name, Prefix=\"B\", PaginationConfig={'PageSize': 500})\n",
        "\n",
        "for page in pages:\n",
        "    if 'Contents' not in page:\n",
        "        continue\n",
        "    for obj in page['Contents']:\n",
        "        key = obj['Key']\n",
        "        parts = key.split('/')\n",
        "        #print(len(parts))\n",
        "        if key.endswith('/') or len(parts) <= 4:\n",
        "            continue  # skip folder markers\n",
        "        print(key)\n"
      ],
      "metadata": {
        "id": "hC-NYGdNed8V"
      },
      "execution_count": 150,
      "outputs": []
    }
  ]
}